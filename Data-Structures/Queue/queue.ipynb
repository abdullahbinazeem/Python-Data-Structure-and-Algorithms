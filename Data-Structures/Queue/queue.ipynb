{
 "cells": [
  {
   "cell_type": "code",
   "execution_count": 3,
   "id": "bffd34b4-99a5-4d0d-b41f-b69ce1318092",
   "metadata": {},
   "outputs": [],
   "source": [
    "from collections import deque\n",
    "\n",
    "class Queue:\n",
    "\n",
    "    def __init__(self):\n",
    "        self.buffer = deque()\n",
    "\n",
    "    def enqueue(self, item):\n",
    "        self.buffer.appendleft(item)\n",
    "\n",
    "    def deque(self):\n",
    "        self.buffer.pop()\n",
    "\n",
    "    def is_empty(self):\n",
    "        return len(self.buffer)==0\n",
    "\n",
    "    def size(self):\n",
    "        return len(self.buffer)\n",
    "        "
   ]
  },
  {
   "cell_type": "code",
   "execution_count": 9,
   "id": "99441b82-dbc5-44c9-a886-df057d21de0f",
   "metadata": {},
   "outputs": [],
   "source": [
    "fc = Queue()\n",
    "fc.enqueue(2)\n",
    "fc.enqueue(4)\n",
    "fc.enqueue(3)"
   ]
  },
  {
   "cell_type": "code",
   "execution_count": 10,
   "id": "70dee411-5116-4de0-b78a-5675d0c10242",
   "metadata": {},
   "outputs": [
    {
     "data": {
      "text/plain": [
       "deque([3, 4, 2])"
      ]
     },
     "execution_count": 10,
     "metadata": {},
     "output_type": "execute_result"
    }
   ],
   "source": [
    "fc.buffer"
   ]
  },
  {
   "cell_type": "code",
   "execution_count": 11,
   "id": "f7411107-557b-451b-a1f4-f00a8027f25b",
   "metadata": {},
   "outputs": [],
   "source": [
    "fc.deque()"
   ]
  },
  {
   "cell_type": "code",
   "execution_count": 12,
   "id": "e0dab9ed-aaa3-4653-b740-2a269c4a431f",
   "metadata": {},
   "outputs": [
    {
     "data": {
      "text/plain": [
       "deque([3, 4])"
      ]
     },
     "execution_count": 12,
     "metadata": {},
     "output_type": "execute_result"
    }
   ],
   "source": [
    "fc.buffer"
   ]
  }
 ],
 "metadata": {
  "kernelspec": {
   "display_name": "Python 3 (ipykernel)",
   "language": "python",
   "name": "python3"
  },
  "language_info": {
   "codemirror_mode": {
    "name": "ipython",
    "version": 3
   },
   "file_extension": ".py",
   "mimetype": "text/x-python",
   "name": "python",
   "nbconvert_exporter": "python",
   "pygments_lexer": "ipython3",
   "version": "3.13.1"
  }
 },
 "nbformat": 4,
 "nbformat_minor": 5
}
